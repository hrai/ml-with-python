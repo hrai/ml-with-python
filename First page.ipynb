{
 "cells": [
  {
   "cell_type": "markdown",
   "metadata": {},
   "source": [
    "# Learning\n",
    "\n",
    "This notebook contains simple examples of Jupyter Notebook & Python3\n",
    "\n",
    "## Example 1: Hello, world\n"
   ]
  },
  {
   "cell_type": "code",
   "execution_count": 3,
   "metadata": {},
   "outputs": [
    {
     "name": "stdout",
     "output_type": "stream",
     "text": [
      "Hi all!\n"
     ]
    }
   ],
   "source": [
    "\n",
    "hello = \"Hi\"\n",
    "stmt = hello + \" all!\"\n",
    "print(stmt)\n"
   ]
  },
  {
   "cell_type": "markdown",
   "metadata": {},
   "source": [
    "## Ex 2 loop"
   ]
  },
  {
   "cell_type": "code",
   "execution_count": 7,
   "metadata": {},
   "outputs": [
    {
     "name": "stdout",
     "output_type": "stream",
     "text": [
      "j=1 y=3\n",
      "j=2 y=5\n",
      "j=3 y=8\n",
      "j=4 y=12\n"
     ]
    }
   ],
   "source": [
    "x=2\n",
    "\n",
    "for j in range(1,5):\n",
    "    x=x+j\n",
    "    print(\"j={0} y={1}\".format(j, x))"
   ]
  },
  {
   "cell_type": "code",
   "execution_count": null,
   "metadata": {},
   "outputs": [],
   "source": []
  },
  {
   "cell_type": "code",
   "execution_count": null,
   "metadata": {},
   "outputs": [],
   "source": []
  }
 ],
 "metadata": {
  "kernelspec": {
   "display_name": "Python 3",
   "language": "python",
   "name": "python3"
  },
  "language_info": {
   "codemirror_mode": {
    "name": "ipython",
    "version": 3
   },
   "file_extension": ".py",
   "mimetype": "text/x-python",
   "name": "python",
   "nbconvert_exporter": "python",
   "pygments_lexer": "ipython3",
   "version": "3.6.7"
  }
 },
 "nbformat": 4,
 "nbformat_minor": 2
}
